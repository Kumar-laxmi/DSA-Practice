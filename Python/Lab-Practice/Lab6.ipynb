{
 "cells": [
  {
   "cell_type": "markdown",
   "metadata": {},
   "source": [
    "# Experiment-6\n",
    "### Date: 3 March 2022\n",
    "<table>\n",
    "    <tr>\n",
    "        <td>Name: Kumar Laxmikant</td>\n",
    "    </tr>\n",
    "    <tr>\n",
    "        <td>Rollno: CH.EN.U4CSE20039</td>\n",
    "    </tr>\n",
    "    <tr>\n",
    "        <td>Subject: Data-Structure and Algorithm (19CSE212)</td>\n",
    "    </tr>\n",
    "    <tr>\n",
    "        <td>Department: CSE-A</td>\n",
    "    </tr>\n",
    "</table>"
   ]
  },
  {
   "cell_type": "markdown",
   "metadata": {},
   "source": [
    "#### **EXPERIMENT:** \n",
    "##### i) Write a program that implements Circular Queue using arrays.\n",
    "##### ii) Write a program that uses both recursive and non-recursive functions to perform the following searching operations for a key value in a given list of integers:  \n",
    "##### a) Linear search  \n",
    "##### b) Binary Search "
   ]
  },
  {
   "cell_type": "markdown",
   "metadata": {},
   "source": [
    "### ANSWER: \n",
    "#### i) Write a program that implements Circular Queue using arrays."
   ]
  },
  {
   "cell_type": "code",
   "execution_count": 1,
   "metadata": {},
   "outputs": [
    {
     "name": "stdout",
     "output_type": "stream",
     "text": [
      "THE SIZE OF CIRCULAR QUEUE IS: 5\n",
      "Enter 1 to perform ENQUEUE operation\n",
      "Enter 2 to perform DEQUEUE operation\n",
      "Enter 3 to print the whole Queue\n",
      "Enter 4 to check if Queue is empty\n",
      "Enter 5 to check if Queue is full\n",
      "Enter 6 to print Front Element of Circular Queue\n",
      "Enter 7 to print Rear Element of Circular Queue\n",
      "Enter 8 to exit\n",
      "THE CHOICE SELECTED: 1\n",
      "The element = 20 enqueued successfully at position = 0\n",
      "THE CHOICE SELECTED: 1\n",
      "The element = 30 enqueued successfully at position = 1\n",
      "THE CHOICE SELECTED: 3\n",
      "Elements in the circular queue are: 20 30 \n",
      "THE CHOICE SELECTED: 2\n",
      "The element = 20 deleted successfully\n",
      "THE CHOICE SELECTED: 3\n",
      "Elements in the circular queue are: 30 \n",
      "THE CHOICE SELECTED: 4\n",
      "Status of isEmpty of Stack: False\n",
      "THE CHOICE SELECTED: 5\n",
      "Status of isEmpty of Stack: False\n",
      "THE CHOICE SELECTED: 6\n",
      "\n",
      " The Front Element of Circular Queue is: 30\n",
      "THE CHOICE SELECTED: 7\n",
      "\n",
      " The Front Element of Circular Queue is: 30\n",
      "THE CHOICE SELECTED: 8\n"
     ]
    }
   ],
   "source": [
    "class CircularQueueUsingArray():\n",
    " \n",
    "    # constructor\n",
    "    def __init__(self, size): # initializing the class\n",
    "        self.size = size\n",
    "         \n",
    "        # initializing queue with none\n",
    "        self.queue = [None for i in range(size)]\n",
    "        self.front = self.rear = -1\n",
    "\n",
    "    def isFull(self):\n",
    "        return ((self.rear + 1) % self.size == self.front)\n",
    "\n",
    "    def isEmpty(self):\n",
    "        return (self.front == -1)\n",
    " \n",
    "    def enqueue(self, data):\n",
    "        # condition if queue is full\n",
    "        if ((self.rear + 1) % self.size == self.front):\n",
    "            print(\" Queue is Full\\n\")\n",
    "             \n",
    "        # condition for empty queue\n",
    "        elif (self.front == -1):\n",
    "            self.front = 0\n",
    "            self.rear = 0\n",
    "            self.queue[self.rear] = data\n",
    "            print(\"The element = {} enqueued successfully at position = {}\".format(data,self.rear))\n",
    "        else:  \n",
    "            # next position of rear\n",
    "            self.rear = (self.rear + 1) % self.size\n",
    "            self.queue[self.rear] = data\n",
    "            print(\"The element = {} enqueued successfully at position = {}\".format(data,self.rear))\n",
    "             \n",
    "    def dequeue(self):\n",
    "        if (self.front == -1): # condition for empty queue\n",
    "            print (\"Queue is Empty\\n\")\n",
    "             \n",
    "        # condition for only one element\n",
    "        elif (self.front == self.rear):\n",
    "            temp=self.queue[self.front]\n",
    "            self.front = -1\n",
    "            self.rear = -1\n",
    "            print(\"The element = {} deleted successfully\".format(temp))\n",
    "        else:\n",
    "            temp = self.queue[self.front]\n",
    "            self.front = (self.front + 1) % self.size\n",
    "            print(\"The element = {} deleted successfully\".format(temp))\n",
    "\n",
    "    def Front(self):\n",
    "        if self.isEmpty():\n",
    "            print(\"\\n Empty Queue \")\n",
    "        else:\n",
    "            print(\"\\n The Front Element of Circular Queue is: {}\".format(self.queue[self.front]))\n",
    "\n",
    "    def Rear(self):\n",
    "        if self.isEmpty():\n",
    "            print(\"\\n Empty Queue \")\n",
    "        else:\n",
    "            print(\"\\n The Front Element of Circular Queue is: {}\".format(self.queue[self.rear]))\n",
    "\n",
    "    def display(self):\n",
    "     \n",
    "        # condition for empty queue\n",
    "        if(self.front == -1):\n",
    "            print (\"Queue is Empty\")\n",
    " \n",
    "        elif (self.rear >= self.front):\n",
    "            print(\"Elements in the circular queue are:\",\n",
    "                                              end = \" \")\n",
    "            for i in range(self.front, self.rear + 1):\n",
    "                print(self.queue[i], end = \" \")\n",
    "            print ()\n",
    " \n",
    "        else:\n",
    "            print (\"Elements in Circular Queue are:\",end = \" \")\n",
    "            for i in range(self.front, self.size):\n",
    "                print(self.queue[i], end = \" \")\n",
    "            for i in range(0, self.rear + 1):\n",
    "                print(self.queue[i], end = \" \")\n",
    "            print ()\n",
    " \n",
    "        if ((self.rear + 1) % self.size == self.front):\n",
    "            print(\"Queue is Full\")\n",
    "\n",
    "size = int(input('Enter the size of Circular Queue: '))\n",
    "print(\"THE SIZE OF CIRCULAR QUEUE IS: {}\".format(size))\n",
    "cq = CircularQueueUsingArray(size)\n",
    "\n",
    "print(\"Enter 1 to perform ENQUEUE operation\")\n",
    "print(\"Enter 2 to perform DEQUEUE operation\")\n",
    "print(\"Enter 3 to print the whole Queue\")\n",
    "print(\"Enter 4 to check if Queue is empty\")\n",
    "print(\"Enter 5 to check if Queue is full\")\n",
    "print(\"Enter 6 to print Front Element of Circular Queue\")\n",
    "print(\"Enter 7 to print Rear Element of Circular Queue\")\n",
    "print(\"Enter 8 to exit\")\n",
    "\n",
    "while True:\n",
    "    choice = int(input(\"\\nEnter your choice: \"))\n",
    "    print(\"THE CHOICE SELECTED: {}\".format(choice))\n",
    "    if choice==1:\n",
    "        newValue = int(input(\"Enter the value to push: \"))\n",
    "        cq.enqueue(newValue)\n",
    "    elif choice==2:\n",
    "        cq.dequeue()\n",
    "    elif choice==3:\n",
    "        cq.display()\n",
    "    elif choice==4:\n",
    "        print(\"Status of isEmpty of Stack: {}\".format(cq.isEmpty()))\n",
    "    elif choice==5:\n",
    "        print(\"Status of isEmpty of Stack: {}\".format(cq.isFull()))\n",
    "    elif choice==6:\n",
    "        cq.Front()\n",
    "    elif choice==7:\n",
    "        cq.Rear()\n",
    "    elif choice==8:\n",
    "        break\n",
    "    else:\n",
    "        print(\"\\nInvalid Choice!!\")"
   ]
  },
  {
   "cell_type": "markdown",
   "metadata": {},
   "source": [
    "#### ii) Write a program that uses both recursive and non-recursive functions to perform the following searching operations for a key value in a given list of integers:  \n",
    "##### a) Linear search  \n",
    "##### b) Binary Search "
   ]
  },
  {
   "cell_type": "markdown",
   "metadata": {},
   "source": [
    "#### a) Linear Search - Non-Recursive"
   ]
  },
  {
   "cell_type": "code",
   "execution_count": 5,
   "metadata": {},
   "outputs": [
    {
     "name": "stdout",
     "output_type": "stream",
     "text": [
      "The array is = [3, 1, 4, 9, 0, 7, 8, 6, 5]\n",
      "The key element is = 7\n",
      "\n",
      "The key element = 7 found at position = 6\n"
     ]
    }
   ],
   "source": [
    "def LinearSearchNonRecursive(arr,key):\n",
    "    for i in range(0,len(arr)):\n",
    "        if arr[i]==key:\n",
    "            return i+1\n",
    "    return -1\n",
    "\n",
    "arr = list(int(num) for num in input(\"Enter the array: \").strip().split())\n",
    "key = int(input(\"Enter the key value to search: \"))\n",
    "\n",
    "print(\"The array is = {}\".format(arr))\n",
    "print(\"The key element is = {}\".format(key))\n",
    "\n",
    "pos = LinearSearchNonRecursive(arr,key)\n",
    "if pos==-1:\n",
    "    print(\"\\nSorry! Key element = {} not present in Array = {}\".format(key,arr))\n",
    "else:\n",
    "    print(\"\\nThe key element = {} found at position = {}\".format(key,pos))"
   ]
  },
  {
   "cell_type": "markdown",
   "metadata": {},
   "source": [
    "#### a) Linear Search - Recursive"
   ]
  },
  {
   "cell_type": "code",
   "execution_count": 6,
   "metadata": {},
   "outputs": [
    {
     "name": "stdout",
     "output_type": "stream",
     "text": [
      "The array is = [9, 7, 3, 5, 6, 1, 0, 2]\n",
      "The key element is = 5\n",
      "\n",
      "The key element = 5 found at position = 4\n"
     ]
    }
   ],
   "source": [
    "def LinearSearchRecursive(arr,key,index=0):\n",
    "    if index>=len(arr):\n",
    "        return -1\n",
    "    elif arr[index]==key:\n",
    "        return index+1\n",
    "    else:\n",
    "        return LinearSearchRecursive(arr,key,index+1)\n",
    "\n",
    "arr = list(int(num) for num in input(\"Enter the array: \").strip().split())\n",
    "key = int(input(\"Enter the key value to search: \"))\n",
    "\n",
    "print(\"The array is = {}\".format(arr))\n",
    "print(\"The key element is = {}\".format(key))\n",
    "\n",
    "pos = LinearSearchRecursive(arr,key)\n",
    "if pos==-1:\n",
    "    print(\"\\nSorry! Key element = {} not present in Array = {}\".format(key,arr))\n",
    "else:\n",
    "    print(\"\\nThe key element = {} found at position = {}\".format(key,pos))"
   ]
  },
  {
   "cell_type": "markdown",
   "metadata": {},
   "source": [
    "#### b) Binary Search - Non-Recursive"
   ]
  },
  {
   "cell_type": "code",
   "execution_count": 12,
   "metadata": {},
   "outputs": [
    {
     "name": "stdout",
     "output_type": "stream",
     "text": [
      "The array is = [0, 1, 4, 6, 7, 9, 11, 15]\n",
      "The key element is = 4\n",
      "\n",
      "The key element = 4 found at position = 3\n"
     ]
    }
   ],
   "source": [
    "def BinarySeachNonRecursive(arr,key,low=0,high=len(arr)-1):\n",
    "    while low<=high:\n",
    "        mid = low + (high - low)//2\n",
    "        if arr[mid]==key:\n",
    "            return mid+1\n",
    "        elif arr[mid] < key:\n",
    "            low = mid + 1\n",
    "        elif arr[mid] > key:\n",
    "            high = mid - 1\n",
    "    return -1\n",
    "\n",
    "arr = list(int(num) for num in input(\"Enter the array: \").strip().split())\n",
    "key = int(input(\"Enter the key value to search: \"))\n",
    "\n",
    "print(\"The array is = {}\".format(arr))\n",
    "print(\"The key element is = {}\".format(key))\n",
    "\n",
    "pos = BinarySeachNonRecursive(arr,key)\n",
    "if pos==-1:\n",
    "    print(\"\\nSorry! Key element = {} not present in Array = {}\".format(key,arr))\n",
    "else:\n",
    "    print(\"\\nThe key element = {} found at position = {}\".format(key,pos))"
   ]
  },
  {
   "cell_type": "markdown",
   "metadata": {},
   "source": [
    "#### b) Binary Search - Recursive"
   ]
  },
  {
   "cell_type": "code",
   "execution_count": 22,
   "metadata": {},
   "outputs": [
    {
     "name": "stdout",
     "output_type": "stream",
     "text": [
      "The array is = [0, 2, 5, 8, 10, 12, 16]\n",
      "The key element is = 2\n",
      "\n",
      "The key element = 2 found at position = 2\n"
     ]
    }
   ],
   "source": [
    "def BinarySeachRecursive(arr,x,low=0,high=len(arr)-1):\n",
    "    if high >= low:\n",
    "        mid = (high + low) // 2\n",
    "        if arr[mid] == x:\n",
    "            return mid+1\n",
    "        elif arr[mid] > x:\n",
    "            return BinarySeachRecursive(arr, x, low, mid - 1)\n",
    "        else:\n",
    "            return BinarySeachRecursive(arr, x, mid + 1, high)\n",
    "    else:\n",
    "        return -1\n",
    "\n",
    "arr = list(int(num) for num in input(\"Enter the array: \").strip().split())\n",
    "key = int(input(\"Enter the key value to search: \"))\n",
    "\n",
    "print(\"The array is = {}\".format(arr))\n",
    "print(\"The key element is = {}\".format(key))\n",
    "\n",
    "pos = BinarySeachRecursive(arr,key)\n",
    "if pos==-1:\n",
    "    print(\"\\nSorry! Key element = {} not present in Array = {}\".format(key,arr))\n",
    "else:\n",
    "    print(\"\\nThe key element = {} found at position = {}\".format(key,pos))"
   ]
  }
 ],
 "metadata": {
  "interpreter": {
   "hash": "aee8b7b246df8f9039afb4144a1f6fd8d2ca17a180786b69acc140d282b71a49"
  },
  "kernelspec": {
   "display_name": "Python 3.9.0 64-bit",
   "language": "python",
   "name": "python3"
  },
  "language_info": {
   "codemirror_mode": {
    "name": "ipython",
    "version": 3
   },
   "file_extension": ".py",
   "mimetype": "text/x-python",
   "name": "python",
   "nbconvert_exporter": "python",
   "pygments_lexer": "ipython3",
   "version": "3.10.2"
  },
  "orig_nbformat": 4
 },
 "nbformat": 4,
 "nbformat_minor": 2
}
