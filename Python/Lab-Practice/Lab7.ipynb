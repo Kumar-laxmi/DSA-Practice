{
 "cells": [
  {
   "cell_type": "markdown",
   "metadata": {},
   "source": [
    "# Experiment-7\n",
    "### Date: - 30 March 2022\n",
    "<table>\n",
    "    <tr>\n",
    "        <td>Name: Kumar Laxmikant</td>\n",
    "    </tr>\n",
    "    <tr>\n",
    "        <td>Rollno: CH.EN.U4CSE20039</td>\n",
    "    </tr>\n",
    "    <tr>\n",
    "        <td>Subject: Data-Structure and Algorithm (19CSE212)</td>\n",
    "    </tr>\n",
    "    <tr>\n",
    "        <td>Department: CSE-A</td>\n",
    "    </tr>\n",
    "</table>"
   ]
  },
  {
   "cell_type": "markdown",
   "metadata": {},
   "source": [
    "#### **EXPERIMENT:** *Write a program that implements the following sorting*\n",
    "##### i) Bubble sort \n",
    "##### ii) Selection sort \n",
    "##### iii) Quick sort"
   ]
  },
  {
   "cell_type": "markdown",
   "metadata": {},
   "source": [
    "##### i) Bubble sort "
   ]
  },
  {
   "cell_type": "code",
   "execution_count": 13,
   "metadata": {},
   "outputs": [],
   "source": [
    "def BubbleSort(arr):  # Non-recusive\n",
    "    flag = 1\n",
    "    for i in range(0,len(arr)):\n",
    "        for j in range(0,len(arr)-1):\n",
    "            if arr[j]>arr[j+1]:\n",
    "                flag = 0\n",
    "                arr[j], arr[j+1] = arr[j+1], arr[j]\n",
    "        print(\"The Array after Pass {} is {}\".format(i+1,arr))\n",
    "        if flag==1:\n",
    "            break\n",
    "    print(\"\\nThe Final Sorted Array is: {}\".format(arr))"
   ]
  },
  {
   "cell_type": "code",
   "execution_count": 19,
   "metadata": {},
   "outputs": [
    {
     "name": "stdout",
     "output_type": "stream",
     "text": [
      "The Array after Pass is [13, 26, 32, 10, 35]\n",
      "The Array after Pass is [13, 26, 10, 32, 35]\n",
      "The Array after Pass is [13, 10, 26, 32, 35]\n",
      "The Array after Pass is [10, 13, 26, 32, 35]\n"
     ]
    }
   ],
   "source": [
    "def bubbleSortRecursive(array, n=None): #Recursive\n",
    "        if n is None:\n",
    "            n = len(array)\n",
    " \n",
    "        # Base case\n",
    "        if n == 1:\n",
    "            return\n",
    " \n",
    "        for i in range(n - 1):\n",
    "            if array[i] > array[i + 1]:\n",
    "                array[i], array[i + 1] = array[i + 1], array[i]\n",
    "        \n",
    "        print(\"The Array after Pass is {}\".format(array))\n",
    "        bubbleSortRecursive(array, n-1)\n"
   ]
  },
  {
   "cell_type": "markdown",
   "metadata": {},
   "source": [
    "##### ii) Selection sort "
   ]
  },
  {
   "cell_type": "code",
   "execution_count": 14,
   "metadata": {},
   "outputs": [],
   "source": [
    "def SelectionSort(arr):\n",
    "    for i in range(0,len(arr)):\n",
    "        index = i\n",
    "        for j in range(i+1,len(arr)):\n",
    "            if arr[j]<arr[index]:\n",
    "                index = j\n",
    "        arr[i],arr[index] = arr[index],arr[i]\n",
    "        print(\"The Array after Pass {} is {}\".format(i+1,arr))\n",
    "    print(\"\\nThe Final Sorted Array: {}\".format(arr))"
   ]
  },
  {
   "cell_type": "code",
   "execution_count": null,
   "metadata": {},
   "outputs": [],
   "source": [
    "def minIndex(a, i, j):\n",
    "    if i == j:\n",
    "        return i\n",
    "         \n",
    "    k = minIndex(a, i + 1, j)\n",
    "    return (i if a[i] < a[k] else k)\n",
    "\n",
    "def recurSelectionSort(a, n, index = 0):\n",
    "    if index == n:\n",
    "        return -1\n",
    "         \n",
    "    k = minIndex(a, index, n-1)\n",
    "\n",
    "    if k != index:\n",
    "        a[k], a[index] = a[index], a[k]\n",
    "    \n",
    "    print(\"The Array after Pass is {}\".format(a))\n",
    "    recurSelectionSort(a, n, index + 1)"
   ]
  },
  {
   "cell_type": "markdown",
   "metadata": {},
   "source": [
    "##### iii) Quick sort"
   ]
  },
  {
   "cell_type": "code",
   "execution_count": 15,
   "metadata": {},
   "outputs": [],
   "source": [
    "def QuickSort(arr,left,right):\n",
    "    if left<right:\n",
    "        p = Partition(arr,left,right)\n",
    "        QuickSort(arr,left,p-1)\n",
    "        QuickSort(arr,p+1,right)\n",
    "\n",
    "def Partition(arr,left,right):\n",
    "    pivot = arr[right]\n",
    "    i = left - 1\n",
    "\n",
    "    for j in range(left,right):\n",
    "        if arr[j]<pivot:\n",
    "            i = i + 1\n",
    "            arr[i], arr[j] = arr[j], arr[i]\n",
    "    arr[i+1], arr[right] = arr[right], arr[i+1]\n",
    "    \n",
    "    print(\"The Array after Pass {}\\tThe partition variable is: {}\".format(arr,i+1))\n",
    "    return (i + 1)"
   ]
  },
  {
   "cell_type": "code",
   "execution_count": 20,
   "metadata": {},
   "outputs": [
    {
     "name": "stdout",
     "output_type": "stream",
     "text": [
      "Enter 1 for Bubble Sort Ierative\n",
      "Enter 2 for Selection Sort\n",
      "Enter 3 for Quick Sort\n",
      "Enter the Array Elements: \n",
      "\n",
      "The Array is: [13, 32, 26, 35, 10] \n",
      "\n",
      "The Array after Pass 1 is [13, 26, 32, 10, 35]\n",
      "The Array after Pass 2 is [13, 26, 10, 32, 35]\n",
      "The Array after Pass 3 is [13, 10, 26, 32, 35]\n",
      "The Array after Pass 4 is [10, 13, 26, 32, 35]\n",
      "The Array after Pass 5 is [10, 13, 26, 32, 35]\n",
      "\n",
      "The Final Sorted Array is: [10, 13, 26, 32, 35]\n"
     ]
    }
   ],
   "source": [
    "print(\"Enter 1 for Bubble Sort\")\n",
    "print(\"Enter 2 for Selection Sort\")\n",
    "print(\"Enter 3 for Quick Sort\")\n",
    "\n",
    "choice = int(input(\"Enter your choice: \"))\n",
    "if choice==1:\n",
    "    print(\"Enter the Array Elements: \")\n",
    "    arr = []\n",
    "    arr = [int(item) for item in input().split()]\n",
    "    print(\"\\nThe Array is: {} \\n\".format(arr))\n",
    "    BubbleSort(arr)\n",
    "elif choice==2:\n",
    "    print(\"Enter the Array Elements: \")\n",
    "    arr = []\n",
    "    arr = [int(item) for item in input().split()]\n",
    "    print(\"\\nThe Array is: {} \\n\".format(arr))\n",
    "    SelectionSort(arr)\n",
    "elif choice==3:\n",
    "    print(\"Enter the Array Elements: \")\n",
    "    arr = [int(item) for item in input().split()]\n",
    "    print(\"\\nThe Array is: {} \\n\".format(arr))\n",
    "\n",
    "    QuickSort(arr, 0, len(arr)-1)\n",
    "    print(\"\\nThe Final Sorted Array is: {}\".format(arr))\n",
    "else:\n",
    "    print(\"\\nINVALID CHOICE!!!\")\n",
    "\n",
    "    "
   ]
  }
 ],
 "metadata": {
  "interpreter": {
   "hash": "aee8b7b246df8f9039afb4144a1f6fd8d2ca17a180786b69acc140d282b71a49"
  },
  "kernelspec": {
   "display_name": "Python 3.9.0 64-bit",
   "language": "python",
   "name": "python3"
  },
  "language_info": {
   "codemirror_mode": {
    "name": "ipython",
    "version": 3
   },
   "file_extension": ".py",
   "mimetype": "text/x-python",
   "name": "python",
   "nbconvert_exporter": "python",
   "pygments_lexer": "ipython3",
   "version": "3.10.2"
  },
  "orig_nbformat": 4
 },
 "nbformat": 4,
 "nbformat_minor": 2
}
